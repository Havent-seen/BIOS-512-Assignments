{
 "cells": [
  {
   "cell_type": "markdown",
   "id": "766a4c53-5596-4e39-9082-8e97c8e59c41",
   "metadata": {},
   "source": [
    "# Homework 7\n",
    "This homework is based on the advanced Git lectures. "
   ]
  },
  {
   "cell_type": "markdown",
   "id": "bbb6e943-d49a-4d2e-81f3-59c2d1a3be31",
   "metadata": {},
   "source": [
    "## Question 1\n",
    "#### What is the holy trinity of Git? (Just name the parts.)"
   ]
  },
  {
   "cell_type": "markdown",
   "id": "22312e2a-7a82-44ae-8b0d-6598c44b5a2c",
   "metadata": {},
   "source": [
    "Branch\n",
    "\n",
    "Working copy\n",
    "\n",
    "Staging area"
   ]
  },
  {
   "cell_type": "markdown",
   "id": "47bc27c0-290e-4e94-a071-a37ff613a7c8",
   "metadata": {},
   "source": [
    "## Question 2\n",
    "#### Explain how patches relate to the idea of committing a change to the history of your code?"
   ]
  },
  {
   "cell_type": "markdown",
   "id": "d263393a-f15a-4daa-a3f4-948437cd6a8c",
   "metadata": {},
   "source": [
    "In Git, a patch is basically a record of what changed; it lists the lines that were added, removed, or modified between two versions of a file.\n",
    "When you make a commit, Git takes that patch and saves it permanently as part of your project’s history.\n",
    "\n",
    "A patch describes the change, and a commit is how Git remembers that change forever.\n",
    "\n",
    "Each commit in your repository is essentially one patch that moves the codebase from one state to the next."
   ]
  },
  {
   "cell_type": "markdown",
   "id": "9aa99e0b-8fbe-4ccc-a728-b39b1fda153c",
   "metadata": {},
   "source": [
    "## Question 3\n",
    "#### What is the difference between a branch and a fork?"
   ]
  },
  {
   "cell_type": "markdown",
   "id": "38ee3fbf-db71-4390-9b6a-aaf39c8f65e6",
   "metadata": {},
   "source": [
    "A branch is a history of commits within the same repository. It represents a separate line of development that can later be merged back into the main branch.\n",
    "\n",
    "A fork is a complete copy of a repository that is permanently separate from the original. Unlike a branch, which exists within one repository, a fork creates an independent repository with its own history."
   ]
  },
  {
   "cell_type": "markdown",
   "id": "c6ac98c7-e4ea-4274-a88d-398cb739fab9",
   "metadata": {},
   "source": [
    "## Question 4\n",
    "#### How are diff and patch related? What’s the difference?"
   ]
  },
  {
   "cell_type": "markdown",
   "id": "b0053195-37ec-425e-ae60-cff9dba65e08",
   "metadata": {},
   "source": [
    "In Git, *diff* and *patch* are closely connected.\n",
    "*diff* is a command that shows the differences between two versions of a file in both a human-readable and machine-readable way.\n",
    "The output of *diff* is a patch file, which records all the changes needed to transform one version of a file into another.\n",
    "\n",
    "For *patch*, it is a tool that applies those recorded differences.\n",
    "It takes the output *from* diff and uses it to update an older version of a file so that it matches the newer version."
   ]
  },
  {
   "cell_type": "markdown",
   "id": "29a1d26e-8ead-4b98-b970-6326672f9d66",
   "metadata": {},
   "source": [
    "## Question 5\n",
    "#### See the diagram below.\n",
    "```\n",
    "alice            *-*-*-*-d-e     \n",
    "bob              *-*-*-*-a-b-c\n",
    "origin/main      *-*-*-*-a-b-c\n",
    "```\n",
    "#### a) What part of the Git trininty does each line represent?"
   ]
  },
  {
   "cell_type": "markdown",
   "id": "13987d88-a35a-4f79-9cd8-dbb267c14f0e",
   "metadata": {},
   "source": [
    "First line: alice: Her local branch (alice branch).\n",
    "\n",
    "Second line: bob:  His local branch (bob branch).\n",
    "\n",
    "Third line: origin/main: The remote main branch on GitHub (the shared repository)."
   ]
  },
  {
   "cell_type": "markdown",
   "id": "3fe0a505-ea5b-429b-8a1f-d15da759332b",
   "metadata": {},
   "source": [
    "#### b) What would the result be if Alice performed a rebase? Edit the diagram. What would she type in the terminal to rebase, then push?"
   ]
  },
  {
   "cell_type": "markdown",
   "id": "5729f2d0-365d-4e1b-991e-7088bad94340",
   "metadata": {},
   "source": [
    "If Alice performs a rebase, she’ll move her commits (d-e) to the tip of origin/main, which currently ends at c.\n",
    "The new history after rebasing will look like this:\n",
    "\n",
    "alice            *-*-*-*-a-b-c-d'-e'\n",
    "\n",
    "bob              *-*-*-*-a-b-c\n",
    "\n",
    "origin/main      *-*-*-*-a-b-c\n",
    "\n",
    "To do this in the terminal, Alice would type:\n",
    "\n",
    "git fetch origin\n",
    "\n",
    "git rebase origin/main\n",
    "\n",
    "then she can push with\n",
    "\n",
    "git push --force-with-lease"
   ]
  },
  {
   "cell_type": "markdown",
   "id": "69ac6590-1fcb-4c3a-88e1-8811fe10f0bd",
   "metadata": {},
   "source": [
    "#### c) What would the result be if Alice performed a merge? Edit the diagram. What would she type in the terminal to merge, then push?"
   ]
  },
  {
   "cell_type": "markdown",
   "id": "15e79b36-a54b-4369-b171-63843a823f8f",
   "metadata": {},
   "source": [
    "If Alice performs a merge instead of a rebase, Git will create a new merge commit that combines her branch (d-e) with the latest changes from origin/main (a-b-c).\n",
    "\n",
    "The new diagram will look like this:"
   ]
  },
  {
   "cell_type": "code",
   "execution_count": null,
   "id": "4dc97b48-1b37-455c-9aa5-af717b144c4b",
   "metadata": {},
   "outputs": [],
   "source": [
    "'''\n",
    "alice            *-*-*-*-a-b-c---m\n",
    "                  \\           /\n",
    "                   d---e-----\n",
    "bob              *-*-*-*-a-b-c\n",
    "origin/main      *-*-*-*-a-b-c\n",
    "'''"
   ]
  },
  {
   "cell_type": "markdown",
   "id": "3c874f7d-64a1-4eb7-8d36-34639fe80bd5",
   "metadata": {},
   "source": [
    "To do this in the terminal, Alice would type:\n",
    "\n",
    "git fetch origin\n",
    "\n",
    "git merge origin/main\n",
    "\n",
    "git push"
   ]
  },
  {
   "cell_type": "markdown",
   "id": "79960210-7841-4ba4-8d90-90245982bd34",
   "metadata": {},
   "source": [
    "#### d) Which would be the better option (rebase vs. merge)? Why?"
   ]
  },
  {
   "cell_type": "markdown",
   "id": "d7603b5d-3799-49e2-a505-17d9d374de65",
   "metadata": {},
   "source": [
    "Rebase would be the better option here.\n",
    "\n",
    "Rebasing keeps the commit history linear and clean, as if Alice had developed her changes (d-e) directly on top of the latest origin/main (a-b-c). This makes it easier to follow the project history and avoids unnecessary merge commits.\n",
    "\n",
    "In contrast, a merge creates an extra merge commit (m), which can clutter the history—especially if the changes are just local updates before pushing to a shared branch."
   ]
  },
  {
   "cell_type": "markdown",
   "id": "65b5eb8a-cee0-4a97-b89c-8746c37669ea",
   "metadata": {},
   "source": [
    "## Question 6\n",
    "#### Match the command/vocab word to the description.\n",
    "You can edit the table!\n",
    "\n",
    "| Command / Vocab     | Answer | Description |\n",
    "|---------------------|------------|------------|\n",
    "| git stash          | B | A.  Gives project history |\n",
    "| git push           | J | B.  Takes any changes that haven't been committed and puts them in a dust bin |\n",
    "| git clone          | N | C.  Shows who last modified each line of a file and in which commit |\n",
    "| git commit         | M | D.  Retrieves any commits on the remote branch that you don’t yet have locally and integrates them into your current branch |\n",
    "| git log            | A | E.  Moves something from the branch to the working copy |\n",
    "| git add -i         | K | F.  Lists which files are staged, unstaged, and untracked |\n",
    "| git rebase         | P | G.  Displays information about a specific commit |\n",
    "| git init           | Q | H.  Combines two branches together in a way that is not ideal for your collaborators |\n",
    "| git checkout       | E | I.  Adds changes from the working directory to the staging area |\n",
    "| git status         | F | J.  Pushes the new commits to the main branch |\n",
    "| git diff           | O | K.  Interactive staging! |\n",
    "| git merge          | H | L.  Text file that contains names of files Git should not track |\n",
    "| git add            | I | M.  Saves file changes to the main branch |\n",
    "| git pull           | D | N.  Makes a copy of an existing repo at in a new directory at another location |\n",
    "| git show           | G | O.  Compares current, unsaved changes to the main branch |\n",
    "| git blame          | C | P.  Combines branches by moving commits onto the tip of another branch, creating a linear history |\n",
    "| .gitignore         | L | Q. Creates a new git repository |"
   ]
  },
  {
   "cell_type": "markdown",
   "id": "e52f875e-a9db-4cae-97c7-f8cafdb5675b",
   "metadata": {},
   "source": [
    "## Question 7\n",
    "#### Walk me through how you would do interactive staging.\n",
    "#### a) Firstly, what situation would interactive staging be useful in?"
   ]
  },
  {
   "cell_type": "markdown",
   "id": "d10cb16a-1144-4126-81cb-1f31903b7230",
   "metadata": {},
   "source": [
    "Interactive staging is useful when multiple unrelated changes are made in one working session, but only certain parts should be committed. It helps divide edits into smaller, well-organized commits without creating a commit after every minor modification."
   ]
  },
  {
   "cell_type": "markdown",
   "id": "a9edbb74-6aad-4f86-98d1-92a199c8f4e3",
   "metadata": {},
   "source": [
    "#### b) What command(s) help you prepare for what you'll see while interactive staging? \n",
    "*Hint*: Check the TA notes."
   ]
  },
  {
   "cell_type": "markdown",
   "id": "e04b5018-965d-437a-8979-15935f12f187",
   "metadata": {},
   "source": [
    "Running *git status* shows which files have been modified, and *git diff* displays the detailed changes. These commands provide a clear overview before starting the interactive process."
   ]
  },
  {
   "cell_type": "markdown",
   "id": "a47a429b-74bf-4a6f-845b-bafa2aa1a841",
   "metadata": {},
   "source": [
    "#### b) What git command would you use to start interactive staging?"
   ]
  },
  {
   "cell_type": "markdown",
   "id": "cc004700-53ae-42ca-9ca5-0734b02b9a90",
   "metadata": {},
   "source": [
    "The process begins with the command *git add -i*."
   ]
  },
  {
   "cell_type": "markdown",
   "id": "dd96bdd7-dabf-451a-b64f-c15259b28927",
   "metadata": {},
   "source": [
    "#### c) On the text-based interactive menu, what option do you use?"
   ]
  },
  {
   "cell_type": "markdown",
   "id": "d6e25776-7a23-46ab-8346-a51d4e53028a",
   "metadata": {},
   "source": [
    "Select the patch option by typing *p*. This enables step-by-step review of file changes in separate sections."
   ]
  },
  {
   "cell_type": "markdown",
   "id": "4c8e890d-3f31-4cb8-b188-5a94b6fa41ac",
   "metadata": {},
   "source": [
    "#### d) After pressing that option, how do you select the file you want to stage?"
   ]
  },
  {
   "cell_type": "markdown",
   "id": "c88d562e-2139-448f-b50f-1480eb687464",
   "metadata": {},
   "source": [
    "A list of modified files appears. Enter the number that corresponds to the target file and press Enter."
   ]
  },
  {
   "cell_type": "markdown",
   "id": "a163e751-4d90-44ce-bf34-02f1ffe21110",
   "metadata": {},
   "source": [
    "#### e) What option do you type if you do not want to stage a hunk?"
   ]
  },
  {
   "cell_type": "markdown",
   "id": "7f1efb05-c3c9-4074-96ad-54bbcb904e2a",
   "metadata": {},
   "source": [
    "Type *n* to skip the current hunk. To skip the current and all remaining hunks, type *d*."
   ]
  },
  {
   "cell_type": "markdown",
   "id": "1c69950c-5f8a-42bf-8ea0-68884865d342",
   "metadata": {},
   "source": [
    "#### f) Once you get to a hunk you want to stage, what do you do?"
   ]
  },
  {
   "cell_type": "markdown",
   "id": "f0835421-4a3d-4cf4-a013-0763ea01dcc9",
   "metadata": {},
   "source": [
    "Type *y* to stage the current hunk. If finer control is needed, type *s* to split the hunk into smaller sections before selecting."
   ]
  },
  {
   "cell_type": "markdown",
   "id": "126fe4e7-4fef-412f-809b-a4e1c9ad45e0",
   "metadata": {},
   "source": [
    "#### g) What if we have more hunks we want to stage?"
   ]
  },
  {
   "cell_type": "markdown",
   "id": "e99b053d-5e60-46f7-bc59-40295f703bed",
   "metadata": {},
   "source": [
    "Continue responding for each hunk using *y, n, or a*. After completing the process, run *git status* to confirm the staged changes and commit them with *git commit*."
   ]
  }
 ],
 "metadata": {
  "kernelspec": {
   "display_name": "Bash",
   "language": "bash",
   "name": "bash"
  },
  "language_info": {
   "codemirror_mode": {
    "name": "ipython",
    "version": 3
   },
   "file_extension": ".py",
   "mimetype": "text/x-python",
   "name": "python",
   "nbconvert_exporter": "python",
   "pygments_lexer": "ipython3",
   "version": "3.10.16"
  }
 },
 "nbformat": 4,
 "nbformat_minor": 5
}
